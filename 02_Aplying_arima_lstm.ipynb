{
  "nbformat": 4,
  "nbformat_minor": 0,
  "metadata": {
    "colab": {
      "provenance": [],
      "authorship_tag": "ABX9TyPfee0to+CoRd7QEh68+otd",
      "include_colab_link": true
    },
    "kernelspec": {
      "name": "python3",
      "display_name": "Python 3"
    },
    "language_info": {
      "name": "python"
    }
  },
  "cells": [
    {
      "cell_type": "markdown",
      "metadata": {
        "id": "view-in-github",
        "colab_type": "text"
      },
      "source": [
        "<a href=\"https://colab.research.google.com/github/KevinrealG/Series_de_tiempo/blob/main/02_Aplying_arima_lstm.ipynb\" target=\"_parent\"><img src=\"https://colab.research.google.com/assets/colab-badge.svg\" alt=\"Open In Colab\"/></a>"
      ]
    },
    {
      "cell_type": "markdown",
      "source": [
        "# Datos y Librerias"
      ],
      "metadata": {
        "id": "G4j5CdeQK9yg"
      }
    },
    {
      "cell_type": "code",
      "source": [
        "import pandas as pd\n",
        "import numpy as np"
      ],
      "metadata": {
        "id": "3vOhXXFtUbVR"
      },
      "execution_count": 1,
      "outputs": []
    },
    {
      "cell_type": "markdown",
      "source": [
        "Fremont Bridge Sidewalks, south of N 34th St\n",
        "!curl -o FremontBridge.csv https://data.seattle.gov/api/views/65db-xm6k/rows.csv?accessType=DOWNLOAD"
      ],
      "metadata": {
        "id": "LAbwJrnyMynf"
      }
    },
    {
      "cell_type": "markdown",
      "source": [
        "The Fremont Bridge Bicycle Counter began operation in October 2012 and records the number of bikes that cross the bridge using the pedestrian/bicycle pathways. Inductive loops on the east and west pathways count the passing of bicycles regardless of travel direction. The data consists of a date/time field: Date, east pathway count field: Fremont Bridge NB, and west pathway count field: Fremont Bridge SB. The count fields represent the total bicycles detected during the specified one hour period. Direction of travel is not specified, but in general most traffic in the Fremont Bridge NB field is travelling northbound and most traffic in the Fremont Bridge SB field is travelling southbound.\n"
      ],
      "metadata": {
        "id": "fOUjhPX_UQGg"
      }
    },
    {
      "cell_type": "code",
      "source": [
        "data ="
      ],
      "metadata": {
        "id": "eM0T1JiKMxwQ"
      },
      "execution_count": null,
      "outputs": []
    },
    {
      "cell_type": "code",
      "execution_count": null,
      "metadata": {
        "id": "rdoV_YLuK1qg"
      },
      "outputs": [],
      "source": []
    },
    {
      "cell_type": "code",
      "source": [],
      "metadata": {
        "id": "0kf6xA01LD1Y"
      },
      "execution_count": null,
      "outputs": []
    },
    {
      "cell_type": "markdown",
      "source": [
        "# Arima"
      ],
      "metadata": {
        "id": "Mby3K6YEMsLZ"
      }
    },
    {
      "cell_type": "markdown",
      "source": [
        "Flow Diagram for ARIMA Time Series Analysis:\n",
        "1. Data Preparation:\n",
        "Gather the time series data and ensure it's in a suitable format.\n",
        "Check for missing values and handle them if present.\n",
        "2. Check for Seasonality:\n",
        "Visualize the time series to observe any repetitive patterns or cycles. Use a decomposition plot to identify trend, seasonality, and residual components.\n",
        "3. Assess Stationarity:\n",
        "Plot the time series to visually inspect trends, rolling statistics, and stationarity.\n",
        "Perform the Augmented Dickey-Fuller (ADF) test to check for stationarity.\n",
        "4. Differencing:\n",
        "Apply differencing to achieve stationarity if the series is non-stationary.\n",
        "Check stationarity after differencing using the ADF test.\n",
        "5. ACF and PACF Analysis:\n",
        "Examine the Autocorrelation Function (ACF) and Partial Autocorrelation Function (PACF) of the differenced series to determine the orders (p, d, q) for ARIMA.\n",
        "6. Fit ARIMA Model:\n",
        "Fit the ARIMA model to the differenced series using the determined orders (p, d, q).\n",
        "Generate forecasts in the differenced space.\n",
        "7. Inverse Differencing for Interpretation:\n",
        "Invert the differencing process to translate the forecasts back to the original scale.\n",
        "Apply cumulative sum to the forecasted differences to obtain predictions in the original scale.\n",
        "8. Evaluate and Refine:\n",
        "Assess the model's performance using appropriate evaluation metrics (e.g., MAE, RMSE).\n",
        "Refine the model if necessary by adjusting parameters and re-fitting."
      ],
      "metadata": {
        "id": "baxOJwm8LKi5"
      }
    },
    {
      "cell_type": "code",
      "source": [],
      "metadata": {
        "id": "AHzSZIqILLLm"
      },
      "execution_count": null,
      "outputs": []
    },
    {
      "cell_type": "markdown",
      "source": [
        "# LSTM"
      ],
      "metadata": {
        "id": "ySipepsPLsFb"
      }
    },
    {
      "cell_type": "code",
      "source": [],
      "metadata": {
        "id": "al1BH7fYLtlv"
      },
      "execution_count": null,
      "outputs": []
    }
  ]
}